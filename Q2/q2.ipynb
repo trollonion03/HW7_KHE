{
 "cells": [
  {
   "cell_type": "code",
   "execution_count": 1,
   "metadata": {},
   "outputs": [
    {
     "name": "stdout",
     "output_type": "stream",
     "text": [
      "[0.58 0.87 0.67]\n"
     ]
    }
   ],
   "source": [
    "import numpy as np\n",
    "\n",
    "def main():\n",
    "    Docs = np.array([[1, 1, 0, 1, 0, 1], [1, 1, 1, 0, 1, 0], [1, 1, 0, 1, 0, 0]])\n",
    "    query = np.array([1, 1, 0, 0, 1, 0])\n",
    "\n",
    "    docs_norm = np.linalg.norm(Docs, axis=1, keepdims=True)\n",
    "    query_norm = np.linalg.norm(query)\n",
    "\n",
    "    docs_normalized = Docs / docs_norm\n",
    "    query_normalized = query / query_norm\n",
    "\n",
    "    similarity = np.dot(docs_normalized, query_normalized)\n",
    "\n",
    "    print(np.round(similarity, 2))\n",
    "    \n",
    "\n",
    "if __name__ == \"__main__\":\n",
    "    main()"
   ]
  }
 ],
 "metadata": {
  "kernelspec": {
   "display_name": "Python 3",
   "language": "python",
   "name": "python3"
  },
  "language_info": {
   "codemirror_mode": {
    "name": "ipython",
    "version": 3
   },
   "file_extension": ".py",
   "mimetype": "text/x-python",
   "name": "python",
   "nbconvert_exporter": "python",
   "pygments_lexer": "ipython3",
   "version": "3.11.3"
  },
  "orig_nbformat": 4
 },
 "nbformat": 4,
 "nbformat_minor": 2
}
